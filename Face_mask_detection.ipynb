{
 "cells": [
  {
   "cell_type": "markdown",
   "metadata": {
    "colab_type": "text",
    "id": "Sqs8xkUUT7ex"
   },
   "source": [
    "# Data Pre Processing"
   ]
  },
  {
   "cell_type": "code",
   "execution_count": 1,
   "metadata": {
    "colab": {
     "base_uri": "https://localhost:8080/",
     "height": 70
    },
    "colab_type": "code",
    "executionInfo": {
     "elapsed": 1671,
     "status": "ok",
     "timestamp": 1591425287100,
     "user": {
      "displayName": "NOUMAN AHMAD",
      "photoUrl": "https://lh3.googleusercontent.com/a-/AOh14GhcQ3BpK0-GAMrjLlr__tOqeFHLlT11IEFK0ztPsVY=s64",
      "userId": "11031044337039581497"
     },
     "user_tz": -300
    },
    "id": "k89Phl5nTfYU",
    "outputId": "025ddbda-5b2d-46ca-860a-72b6525281df"
   },
   "outputs": [
    {
     "name": "stdout",
     "output_type": "stream",
     "text": [
      "{'without_mask': 0, 'with_mask': 1}\n",
      "['without_mask', 'with_mask']\n",
      "[0, 1]\n"
     ]
    }
   ],
   "source": [
    "import cv2,os\n",
    "import random\n",
    "from matplotlib import pyplot as plt\n",
    "import numpy as np\n",
    "from keras.utils import np_utils\n",
    "\n",
    "data_path='Dataset'\n",
    "categories=os.listdir(data_path)\n",
    "labels=[i for i in range(len(categories))]\n",
    "\n",
    "label_dict=dict(zip(categories,labels)) #empty dictionary\n",
    "\n",
    "print(label_dict)\n",
    "print(categories)\n",
    "print(labels)"
   ]
  },
  {
   "cell_type": "code",
   "execution_count": 2,
   "metadata": {
    "colab": {},
    "colab_type": "code",
    "id": "BScfeIRlTtlL"
   },
   "outputs": [
    {
     "name": "stdout",
     "output_type": "stream",
     "text": [
      "Exception: OpenCV(4.4.0) C:\\Users\\appveyor\\AppData\\Local\\Temp\\1\\pip-req-build-j8nxabm_\\opencv\\modules\\imgproc\\src\\color.cpp:182: error: (-215:Assertion failed) !_src.empty() in function 'cv::cvtColor'\n",
      "\n",
      "Exception: OpenCV(4.4.0) C:\\Users\\appveyor\\AppData\\Local\\Temp\\1\\pip-req-build-j8nxabm_\\opencv\\modules\\imgproc\\src\\color.cpp:182: error: (-215:Assertion failed) !_src.empty() in function 'cv::cvtColor'\n",
      "\n",
      "Exception: OpenCV(4.4.0) C:\\Users\\appveyor\\AppData\\Local\\Temp\\1\\pip-req-build-j8nxabm_\\opencv\\modules\\imgproc\\src\\color.cpp:182: error: (-215:Assertion failed) !_src.empty() in function 'cv::cvtColor'\n",
      "\n",
      "Exception: OpenCV(4.4.0) C:\\Users\\appveyor\\AppData\\Local\\Temp\\1\\pip-req-build-j8nxabm_\\opencv\\modules\\imgproc\\src\\color.cpp:182: error: (-215:Assertion failed) !_src.empty() in function 'cv::cvtColor'\n",
      "\n",
      "Exception: OpenCV(4.4.0) C:\\Users\\appveyor\\AppData\\Local\\Temp\\1\\pip-req-build-j8nxabm_\\opencv\\modules\\imgproc\\src\\color.cpp:182: error: (-215:Assertion failed) !_src.empty() in function 'cv::cvtColor'\n",
      "\n"
     ]
    }
   ],
   "source": [
    "img_size=100\n",
    "data=[]\n",
    "target=[]\n",
    "\n",
    "\n",
    "for category in categories:\n",
    "    folder_path=os.path.join(data_path,category)\n",
    "    img_names=os.listdir(folder_path)\n",
    "        \n",
    "    for img_name in img_names:\n",
    "        img_path=os.path.join(folder_path,img_name)\n",
    "        img=cv2.imread(img_path)\n",
    "\n",
    "        try:\n",
    "            gray=cv2.cvtColor(img,cv2.COLOR_BGR2GRAY)           \n",
    "            #Coverting the image into gray scale\n",
    "            resized=cv2.resize(gray,(img_size,img_size))\n",
    "            #resizing the gray scale into 100x100, since we need a fixed common size for all the images in the dataset\n",
    "            data.append(resized)\n",
    "            target.append(label_dict[category])\n",
    "            #appending the image and the label(categorized) into the list (dataset)\n",
    "\n",
    "        except Exception as e:\n",
    "            print('Exception:',e)\n",
    "            #if any exception rasied, the exception will be printed here. And pass to the next image"
   ]
  },
  {
   "cell_type": "markdown",
   "metadata": {
    "colab_type": "text",
    "id": "mYQHryCXVQa9"
   },
   "source": [
    "# Rescale and assign  catagorical lables"
   ]
  },
  {
   "cell_type": "code",
   "execution_count": 3,
   "metadata": {
    "colab": {
     "base_uri": "https://localhost:8080/",
     "height": 35
    },
    "colab_type": "code",
    "executionInfo": {
     "elapsed": 946417,
     "status": "ok",
     "timestamp": 1591426240069,
     "user": {
      "displayName": "NOUMAN AHMAD",
      "photoUrl": "https://lh3.googleusercontent.com/a-/AOh14GhcQ3BpK0-GAMrjLlr__tOqeFHLlT11IEFK0ztPsVY=s64",
      "userId": "11031044337039581497"
     },
     "user_tz": -300
    },
    "id": "DRj6dU9zTxNw",
    "outputId": "2f94a813-4e24-4a85-e969-d347581df96e"
   },
   "outputs": [],
   "source": [
    "data=np.array(data)/255.0\n",
    "data=np.reshape(data,(data.shape[0],img_size,img_size,1))\n",
    "target=np.array(target)\n",
    "new_target=np_utils.to_categorical(target)"
   ]
  },
  {
   "cell_type": "code",
   "execution_count": 4,
   "metadata": {
    "colab": {
     "base_uri": "https://localhost:8080/",
     "height": 35
    },
    "colab_type": "code",
    "executionInfo": {
     "elapsed": 1527,
     "status": "ok",
     "timestamp": 1591426279895,
     "user": {
      "displayName": "NOUMAN AHMAD",
      "photoUrl": "https://lh3.googleusercontent.com/a-/AOh14GhcQ3BpK0-GAMrjLlr__tOqeFHLlT11IEFK0ztPsVY=s64",
      "userId": "11031044337039581497"
     },
     "user_tz": -300
    },
    "id": "M2Ww7WuoeRAo",
    "outputId": "3a6695d7-6934-4245-edff-ebfb6562783c"
   },
   "outputs": [
    {
     "data": {
      "text/plain": [
       "(6831, 2)"
      ]
     },
     "execution_count": 4,
     "metadata": {},
     "output_type": "execute_result"
    }
   ],
   "source": [
    "new_target.shape"
   ]
  },
  {
   "cell_type": "code",
   "execution_count": 5,
   "metadata": {
    "colab": {},
    "colab_type": "code",
    "id": "VX8k6WHiTzaa"
   },
   "outputs": [],
   "source": [
    "np.save('images.npy',data)\n",
    "np.save('labels.npy',new_target)\n"
   ]
  },
  {
   "cell_type": "code",
   "execution_count": 6,
   "metadata": {
    "colab": {},
    "colab_type": "code",
    "id": "z1Zt_juJUA4H"
   },
   "outputs": [],
   "source": [
    "data=np.load('images.npy')\n",
    "new_target=np.load('labels.npy')"
   ]
  },
  {
   "cell_type": "code",
   "execution_count": 7,
   "metadata": {
    "colab": {
     "base_uri": "https://localhost:8080/",
     "height": 35
    },
    "colab_type": "code",
    "executionInfo": {
     "elapsed": 2900,
     "status": "ok",
     "timestamp": 1591426353315,
     "user": {
      "displayName": "NOUMAN AHMAD",
      "photoUrl": "https://lh3.googleusercontent.com/a-/AOh14GhcQ3BpK0-GAMrjLlr__tOqeFHLlT11IEFK0ztPsVY=s64",
      "userId": "11031044337039581497"
     },
     "user_tz": -300
    },
    "id": "w5yQijqzVHJN",
    "outputId": "3a0e4c62-1d15-4ec7-ef85-5162aa18ee0a"
   },
   "outputs": [
    {
     "data": {
      "text/plain": [
       "(6831, 100, 100, 1)"
      ]
     },
     "execution_count": 7,
     "metadata": {},
     "output_type": "execute_result"
    }
   ],
   "source": [
    "data.shape"
   ]
  },
  {
   "cell_type": "code",
   "execution_count": 8,
   "metadata": {
    "colab": {
     "base_uri": "https://localhost:8080/",
     "height": 35
    },
    "colab_type": "code",
    "executionInfo": {
     "elapsed": 2243,
     "status": "ok",
     "timestamp": 1591426353320,
     "user": {
      "displayName": "NOUMAN AHMAD",
      "photoUrl": "https://lh3.googleusercontent.com/a-/AOh14GhcQ3BpK0-GAMrjLlr__tOqeFHLlT11IEFK0ztPsVY=s64",
      "userId": "11031044337039581497"
     },
     "user_tz": -300
    },
    "id": "L1JcfG4MdVZ2",
    "outputId": "49910103-bc4e-4465-90c5-c7fbd566f8a4"
   },
   "outputs": [
    {
     "data": {
      "text/plain": [
       "(100, 100, 1)"
      ]
     },
     "execution_count": 8,
     "metadata": {},
     "output_type": "execute_result"
    }
   ],
   "source": [
    "data.shape[1:]"
   ]
  },
  {
   "cell_type": "markdown",
   "metadata": {},
   "source": [
    "# Creating a Model"
   ]
  },
  {
   "cell_type": "markdown",
   "metadata": {},
   "source": [
    "# Basic Introduction to CNN Layers"
   ]
  },
  {
   "cell_type": "markdown",
   "metadata": {},
   "source": [
    "1.Conv2D=Convolution is the first layer to extract features from an input image. Convolution preserves the relationship between \n",
    "pixels by learning image features using small squares of input data. It is a mathematical operation that takes two inputs such as image matrix and a filter or kernel.\n",
    "\n",
    "2.MaxPooling2D=Its function is to progressively reduce the spatial size of the representation to reduce the amount of parameters and computation in the network. Pooling layer operates on each feature map independently. The most common approach used in pooling is max pooling.It works on even number matrices and take the max of them.\n",
    "\n",
    "3.Flatten=It takes 2D data from MaxPooling and convert it to 1D and send to the dense layer.\n",
    "\n",
    "4.Dense=A dense layer is a classic fully connected neural network layer : each input node is connected to each \n",
    "output node.It is basically used for getting output.\n",
    "\n",
    "5.Dropout= A dropout layer is similar to Dense layer except that when the layer is used, the activations are set\n",
    "to zero for some random nodes. This is a way to prevent overfitting."
   ]
  },
  {
   "cell_type": "code",
   "execution_count": 9,
   "metadata": {
    "colab": {},
    "colab_type": "code",
    "id": "XgsZogOtUPm2"
   },
   "outputs": [],
   "source": [
    "from keras.models import Sequential\n",
    "from keras.layers import Dense,Activation,Flatten,Dropout\n",
    "from keras.layers import Conv2D,MaxPooling2D\n",
    "from keras.callbacks import ModelCheckpoint\n",
    "\n",
    "model=Sequential()\n",
    "\n",
    "model.add(Conv2D(200,(3,3),input_shape=data.shape[1:]))\n",
    "model.add(Activation('relu'))\n",
    "model.add(MaxPooling2D(pool_size=(2,2)))\n",
    "#The first CNN layer followed by Relu and MaxPooling layers\n",
    "\n",
    "model.add(Conv2D(100,(3,3)))\n",
    "model.add(Activation('relu'))\n",
    "model.add(MaxPooling2D(pool_size=(2,2)))\n",
    "#The second convolution layer followed by Relu and MaxPooling layers\n",
    "\n",
    "model.add(Flatten())\n",
    "model.add(Dropout(0.5))\n",
    "#Flatten layer to stack the output convolutions from second convolution layer\n",
    "model.add(Dense(50,activation='relu'))\n",
    "#Dense layer of 64 neurons\n",
    "model.add(Dense(2,activation='softmax'))\n",
    "#The Final layer with two outputs for two categories\n",
    "\n",
    "model.compile(loss='categorical_crossentropy',optimizer='adam',metrics=['accuracy'])"
   ]
  },
  {
   "cell_type": "code",
   "execution_count": 10,
   "metadata": {
    "colab": {
     "base_uri": "https://localhost:8080/",
     "height": 515
    },
    "colab_type": "code",
    "executionInfo": {
     "elapsed": 2125,
     "status": "ok",
     "timestamp": 1591426363561,
     "user": {
      "displayName": "NOUMAN AHMAD",
      "photoUrl": "https://lh3.googleusercontent.com/a-/AOh14GhcQ3BpK0-GAMrjLlr__tOqeFHLlT11IEFK0ztPsVY=s64",
      "userId": "11031044337039581497"
     },
     "user_tz": -300
    },
    "id": "yfCMzZEpcyAM",
    "outputId": "daa31492-6199-4beb-87cc-7ad74041ef74"
   },
   "outputs": [
    {
     "name": "stdout",
     "output_type": "stream",
     "text": [
      "Model: \"sequential\"\n",
      "_________________________________________________________________\n",
      "Layer (type)                 Output Shape              Param #   \n",
      "=================================================================\n",
      "conv2d (Conv2D)              (None, 98, 98, 200)       2000      \n",
      "_________________________________________________________________\n",
      "activation (Activation)      (None, 98, 98, 200)       0         \n",
      "_________________________________________________________________\n",
      "max_pooling2d (MaxPooling2D) (None, 49, 49, 200)       0         \n",
      "_________________________________________________________________\n",
      "conv2d_1 (Conv2D)            (None, 47, 47, 100)       180100    \n",
      "_________________________________________________________________\n",
      "activation_1 (Activation)    (None, 47, 47, 100)       0         \n",
      "_________________________________________________________________\n",
      "max_pooling2d_1 (MaxPooling2 (None, 23, 23, 100)       0         \n",
      "_________________________________________________________________\n",
      "flatten (Flatten)            (None, 52900)             0         \n",
      "_________________________________________________________________\n",
      "dropout (Dropout)            (None, 52900)             0         \n",
      "_________________________________________________________________\n",
      "dense (Dense)                (None, 50)                2645050   \n",
      "_________________________________________________________________\n",
      "dense_1 (Dense)              (None, 2)                 102       \n",
      "=================================================================\n",
      "Total params: 2,827,252\n",
      "Trainable params: 2,827,252\n",
      "Non-trainable params: 0\n",
      "_________________________________________________________________\n"
     ]
    }
   ],
   "source": [
    "model.summary()"
   ]
  },
  {
   "cell_type": "markdown",
   "metadata": {
    "colab_type": "text",
    "id": "Lzs7FPsncqKT"
   },
   "source": [
    "# Train-Test Split"
   ]
  },
  {
   "cell_type": "code",
   "execution_count": 11,
   "metadata": {
    "colab": {},
    "colab_type": "code",
    "id": "1oHT4H09UT8-"
   },
   "outputs": [],
   "source": [
    "from sklearn.model_selection import train_test_split\n",
    "train_data,test_data,train_target,test_target=train_test_split(data,new_target,test_size=0.1)"
   ]
  },
  {
   "cell_type": "code",
   "execution_count": 12,
   "metadata": {
    "colab": {
     "base_uri": "https://localhost:8080/",
     "height": 35
    },
    "colab_type": "code",
    "executionInfo": {
     "elapsed": 1752,
     "status": "ok",
     "timestamp": 1591426368599,
     "user": {
      "displayName": "NOUMAN AHMAD",
      "photoUrl": "https://lh3.googleusercontent.com/a-/AOh14GhcQ3BpK0-GAMrjLlr__tOqeFHLlT11IEFK0ztPsVY=s64",
      "userId": "11031044337039581497"
     },
     "user_tz": -300
    },
    "id": "sBdHmVpzdbny",
    "outputId": "f11273b5-35fc-4192-c7cc-7c838607a860"
   },
   "outputs": [
    {
     "data": {
      "text/plain": [
       "(6147, 100, 100, 1)"
      ]
     },
     "execution_count": 12,
     "metadata": {},
     "output_type": "execute_result"
    }
   ],
   "source": [
    "train_data.shape"
   ]
  },
  {
   "cell_type": "code",
   "execution_count": 13,
   "metadata": {
    "colab": {
     "base_uri": "https://localhost:8080/",
     "height": 35
    },
    "colab_type": "code",
    "executionInfo": {
     "elapsed": 1083,
     "status": "ok",
     "timestamp": 1591426368601,
     "user": {
      "displayName": "NOUMAN AHMAD",
      "photoUrl": "https://lh3.googleusercontent.com/a-/AOh14GhcQ3BpK0-GAMrjLlr__tOqeFHLlT11IEFK0ztPsVY=s64",
      "userId": "11031044337039581497"
     },
     "user_tz": -300
    },
    "id": "Yt9DmIiydgcq",
    "outputId": "85ea6b59-d619-4f1f-931b-f3af4501f647"
   },
   "outputs": [
    {
     "data": {
      "text/plain": [
       "(6147, 2)"
      ]
     },
     "execution_count": 13,
     "metadata": {},
     "output_type": "execute_result"
    }
   ],
   "source": [
    "train_target.shape"
   ]
  },
  {
   "cell_type": "markdown",
   "metadata": {},
   "source": [
    "# Fit the Model to training data"
   ]
  },
  {
   "cell_type": "code",
   "execution_count": 14,
   "metadata": {},
   "outputs": [
    {
     "name": "stdout",
     "output_type": "stream",
     "text": [
      "Epoch 1/15\n",
      "154/154 [==============================] - ETA: 0s - loss: 0.6813 - accuracy: 0.5739WARNING:tensorflow:From c:\\users\\hp\\appdata\\local\\programs\\python\\python38\\lib\\site-packages\\tensorflow\\python\\training\\tracking\\tracking.py:111: Model.state_updates (from tensorflow.python.keras.engine.training) is deprecated and will be removed in a future version.\n",
      "Instructions for updating:\n",
      "This property should not be used in TensorFlow 2.0, as updates are applied automatically.\n",
      "WARNING:tensorflow:From c:\\users\\hp\\appdata\\local\\programs\\python\\python38\\lib\\site-packages\\tensorflow\\python\\training\\tracking\\tracking.py:111: Layer.updates (from tensorflow.python.keras.engine.base_layer) is deprecated and will be removed in a future version.\n",
      "Instructions for updating:\n",
      "This property should not be used in TensorFlow 2.0, as updates are applied automatically.\n",
      "INFO:tensorflow:Assets written to: model-001.model\\assets\n",
      "154/154 [==============================] - 187s 1s/step - loss: 0.6813 - accuracy: 0.5739 - val_loss: 0.6440 - val_accuracy: 0.6398\n",
      "Epoch 2/15\n",
      "154/154 [==============================] - ETA: 0s - loss: 0.6038 - accuracy: 0.6687INFO:tensorflow:Assets written to: model-002.model\\assets\n",
      "154/154 [==============================] - 187s 1s/step - loss: 0.6038 - accuracy: 0.6687 - val_loss: 0.5738 - val_accuracy: 0.6789\n",
      "Epoch 3/15\n",
      "154/154 [==============================] - ETA: 0s - loss: 0.5009 - accuracy: 0.7519INFO:tensorflow:Assets written to: model-003.model\\assets\n",
      "154/154 [==============================] - 197s 1s/step - loss: 0.5009 - accuracy: 0.7519 - val_loss: 0.4702 - val_accuracy: 0.7634\n",
      "Epoch 4/15\n",
      "154/154 [==============================] - ETA: 0s - loss: 0.4176 - accuracy: 0.7980INFO:tensorflow:Assets written to: model-004.model\\assets\n",
      "154/154 [==============================] - 199s 1s/step - loss: 0.4176 - accuracy: 0.7980 - val_loss: 0.4471 - val_accuracy: 0.7683\n",
      "Epoch 5/15\n",
      "154/154 [==============================] - ETA: 0s - loss: 0.3417 - accuracy: 0.8430INFO:tensorflow:Assets written to: model-005.model\\assets\n",
      "154/154 [==============================] - 208s 1s/step - loss: 0.3417 - accuracy: 0.8430 - val_loss: 0.4024 - val_accuracy: 0.8203\n",
      "Epoch 6/15\n",
      "154/154 [==============================] - ETA: 0s - loss: 0.2913 - accuracy: 0.8780INFO:tensorflow:Assets written to: model-006.model\\assets\n",
      "154/154 [==============================] - 199s 1s/step - loss: 0.2913 - accuracy: 0.8780 - val_loss: 0.3890 - val_accuracy: 0.8276\n",
      "Epoch 7/15\n",
      "154/154 [==============================] - ETA: 0s - loss: 0.2357 - accuracy: 0.9046INFO:tensorflow:Assets written to: model-007.model\\assets\n",
      "154/154 [==============================] - 204s 1s/step - loss: 0.2357 - accuracy: 0.9046 - val_loss: 0.3840 - val_accuracy: 0.8301\n",
      "Epoch 8/15\n",
      "154/154 [==============================] - 197s 1s/step - loss: 0.2086 - accuracy: 0.9213 - val_loss: 0.4434 - val_accuracy: 0.8187\n",
      "Epoch 9/15\n",
      "154/154 [==============================] - 198s 1s/step - loss: 0.1674 - accuracy: 0.9345 - val_loss: 0.4023 - val_accuracy: 0.8488\n",
      "Epoch 10/15\n",
      "154/154 [==============================] - 216s 1s/step - loss: 0.1328 - accuracy: 0.9502 - val_loss: 0.4642 - val_accuracy: 0.8407\n",
      "Epoch 11/15\n",
      "154/154 [==============================] - 220s 1s/step - loss: 0.1181 - accuracy: 0.9569 - val_loss: 0.4677 - val_accuracy: 0.8341\n",
      "Epoch 12/15\n",
      "154/154 [==============================] - 226s 1s/step - loss: 0.1110 - accuracy: 0.9628 - val_loss: 0.4446 - val_accuracy: 0.8455\n",
      "Epoch 13/15\n",
      "154/154 [==============================] - 222s 1s/step - loss: 0.1077 - accuracy: 0.9593 - val_loss: 0.4655 - val_accuracy: 0.8480\n",
      "Epoch 14/15\n",
      "154/154 [==============================] - 223s 1s/step - loss: 0.0865 - accuracy: 0.9695 - val_loss: 0.4889 - val_accuracy: 0.8423\n",
      "Epoch 15/15\n",
      "154/154 [==============================] - 200s 1s/step - loss: 0.0865 - accuracy: 0.9693 - val_loss: 0.5645 - val_accuracy: 0.8439\n"
     ]
    }
   ],
   "source": [
    "checkpoint = ModelCheckpoint('model-{epoch:03d}.model',monitor='val_loss',verbose=0,save_best_only=True,mode='auto')\n",
    "history=model.fit(train_data,train_target,epochs=15,callbacks=[checkpoint],validation_split=0.2)"
   ]
  },
  {
   "cell_type": "markdown",
   "metadata": {},
   "source": [
    "# Plot the performance of the Model"
   ]
  },
  {
   "cell_type": "code",
   "execution_count": 15,
   "metadata": {
    "colab": {
     "base_uri": "https://localhost:8080/",
     "height": 299
    },
    "colab_type": "code",
    "executionInfo": {
     "elapsed": 2123,
     "status": "ok",
     "timestamp": 1591426689527,
     "user": {
      "displayName": "NOUMAN AHMAD",
      "photoUrl": "https://lh3.googleusercontent.com/a-/AOh14GhcQ3BpK0-GAMrjLlr__tOqeFHLlT11IEFK0ztPsVY=s64",
      "userId": "11031044337039581497"
     },
     "user_tz": -300
    },
    "id": "H1TU9-z2UZlj",
    "outputId": "cb697aab-6e97-4bef-fb41-3e08b2a90984"
   },
   "outputs": [
    {
     "data": {
      "image/png": "[encoded data removed]",
      "text/plain": [
       "<Figure size 432x288 with 1 Axes>"
      ]
     },
     "metadata": {
      "needs_background": "light"
     },
     "output_type": "display_data"
    },
    {
     "data": {
      "image/png": "[encoded data removed]",
      "text/plain": [
       "<Figure size 432x288 with 1 Axes>"
      ]
     },
     "metadata": {
      "needs_background": "light"
     },
     "output_type": "display_data"
    }
   ],
   "source": [
    "#Graph for loss and accuracy\n",
    "plt.plot(history.history['accuracy'],'r',label='Training Accuracy')\n",
    "plt.plot(history.history['val_accuracy'],'b',label='Validation Accuracy')\n",
    "plt.xlabel('Number of Epochs')\n",
    "plt.ylabel('Accuracy Values')\n",
    "plt.legend()\n",
    "plt.show()\n",
    "plt.plot(history.history['loss'],'r',label='Training Loss')\n",
    "plt.plot(history.history['val_loss'],'b',label='Validation Loss')\n",
    "plt.xlabel('Number of Epochs')\n",
    "plt.ylabel('Loss Values')\n",
    "plt.legend()\n",
    "plt.show()"
   ]
  },
  {
   "cell_type": "code",
   "execution_count": 1,
   "metadata": {
    "colab": {},
    "colab_type": "code",
    "id": "TVMQxLH3bCCc"
   },
   "outputs": [
    {
     "name": "stdout",
     "output_type": "stream",
     "text": [
      "Hello World\n"
     ]
    }
   ],
   "source": [
    "print('Hello World')"
   ]
  },
  {
   "cell_type": "code",
   "execution_count": 8,
   "metadata": {},
   "outputs": [
    {
     "name": "stdout",
     "output_type": "stream",
     "text": [
      "[{'Guri': 'Guri', 'Arsh': 'Arsh'}, {'Guri': 1, 'Arsh': 2}, {'Guri': 1, 'Arsh': 2}]\n",
      "[{'Arsh': 'Arsh', 'Guri': 'Guri'},\n",
      " {'Arsh': 2, 'Guri': 1},\n",
      " {'Arsh': 2, 'Guri': 1}]\n"
     ]
    }
   ],
   "source": [
    "from pprint import pprint\n",
    "dict1=[{'Guri':'Guri','Arsh':'Arsh'},{'Guri':1,'Arsh':2},{'Guri':1,'Arsh':2}]\n",
    "print(dict1)\n",
    "pprint(dict1)"
   ]
  },
  {
   "cell_type": "code",
   "execution_count": 9,
   "metadata": {},
   "outputs": [
    {
     "name": "stdout",
     "output_type": "stream",
     "text": [
      "'Hello World'\n"
     ]
    }
   ],
   "source": [
    "pprint('Hello World')"
   ]
  },
  {
   "cell_type": "code",
   "execution_count": null,
   "metadata": {},
   "outputs": [],
   "source": []
  }
 ],
 "metadata": {
  "accelerator": "GPU",
  "colab": {
   "name": "Covid-19_Face_mask_detection.ipynb",
   "provenance": [],
   "toc_visible": true
  },
  "kernelspec": {
   "display_name": "Python 3",
   "language": "python",
   "name": "python3"
  },
  "language_info": {
   "codemirror_mode": {
    "name": "ipython",
    "version": 3
   },
   "file_extension": ".py",
   "mimetype": "text/x-python",
   "name": "python",
   "nbconvert_exporter": "python",
   "pygments_lexer": "ipython3",
   "version": "3.8.5"
  }
 },
 "nbformat": 4,
 "nbformat_minor": 1
}
